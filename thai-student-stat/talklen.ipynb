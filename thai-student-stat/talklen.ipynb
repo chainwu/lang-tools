{
 "cells": [
  {
   "cell_type": "code",
   "execution_count": 3,
   "metadata": {},
   "outputs": [
    {
     "data": {
      "text/plain": [
       "' Usage:\\n    python3 thai-student-stat.py directory\\n'"
      ]
     },
     "execution_count": 3,
     "metadata": {},
     "output_type": "execute_result"
    }
   ],
   "source": [
    "#!/usr/bin/env python3\n",
    "# coding: utf-8\n",
    "\"\"\" Usage:\n",
    "    python3 thai-student-stat.py directory\n",
    "\"\"\""
   ]
  },
  {
   "cell_type": "code",
   "execution_count": 4,
   "metadata": {},
   "outputs": [],
   "source": [
    "import glob\n",
    "import tgt\n",
    "import numpy as np\n",
    "from sklearn.metrics import confusion_matrix\n",
    "import seaborn as sn\n",
    "import pandas as pd\n",
    "import matplotlib.pyplot as plt\n",
    "import edit_distance\n",
    "\n",
    "VOWELS=['i', 'y', 'u', 'ɨ', 'ɤ', 'e', 'ɛ', 'ə', 'o',  'ɔ',  'a', 'ɚ']\n",
    "CONSONS= ['p', 'pʰ', 't', 'tʰ', 'k', 'kʰ', 'ts', 'tsʰ', 'tʂ', 'tʂʰ', 'tɕ', 'tɕʰ', 'f', 'ɕ', 'x', 's', \n",
    "          'ʂ', 'ʐ', 'm', 'n', 'ŋ', 'l', 'ɥ', 'j', 'w']\n",
    "LABELS = VOWELS+CONSONS\n",
    "#print(CONSONS)"
   ]
  },
  {
   "cell_type": "code",
   "execution_count": 25,
   "metadata": {},
   "outputs": [],
   "source": [
    "def contains_chinese(check_str):\n",
    "    \"\"\"\n",
    "    判断字符串中是否包含中文\n",
    "    :param check_str: {str} 需要检测的字符串\n",
    "    :return: {bool} 包含返回True， 不包含返回False\n",
    "    \"\"\"\n",
    "    for ch in check_str:\n",
    "        if u'\\u4e00' <= ch <= u'\\u9fff':\n",
    "            return True\n",
    "    return False\n",
    "\n",
    "def all_chinese(check_str):\n",
    "    for ch in check_str:\n",
    "        if not (u'\\u4e00' <= ch <= u'\\u9fff'):\n",
    "            return False\n",
    "    return True"
   ]
  },
  {
   "cell_type": "code",
   "execution_count": 34,
   "metadata": {},
   "outputs": [],
   "source": [
    "def length_main(txtgridr):\n",
    "    #print(txtgridr)\n",
    "    txtlist = glob.glob(txtgridr+\"/*.14\")\n",
    "    print(\"File list\", txtlist)\n",
    "    tlen=0\n",
    "    tsilen=0\n",
    "    slen=0\n",
    "    ssilen=0\n",
    "    for txtgridf in txtlist:\n",
    "        tg = tgt.io.read_textgrid(txtgridf, encoding='utf-8', include_empty_intervals=True)\n",
    "        t1=tg.get_tier_by_name('IU/teacher')\n",
    "        t7=tg.get_tier_by_name('IU/student-7')\n",
    "\n",
    "        for i in t1:\n",
    "            sta = i.start_time\n",
    "            fin = i.end_time\n",
    "            txt = i.text.replace(' ','')\n",
    "            if txt == 'SIL':\n",
    "                tsilen=tsilen+fin-sta\n",
    "                #print(txt,fin,sta)\n",
    "            else:\n",
    "                tlen = tlen + fin - sta\n",
    "                #print(txt, fin, sta)\n",
    "        for i in t7:\n",
    "            sta = i.start_time\n",
    "            fin = i.end_time\n",
    "            txt = i.text.replace(' ','')\n",
    "            if txt == 'SIL':\n",
    "                ssilen=ssilen+fin-sta\n",
    "                #print(txt,fin,sta)\n",
    "            else:\n",
    "                slen = slen + fin - sta\n",
    "                #print(txt, fin, sta)\n",
    "    print(\"Teacher talk:\", tlen, \"sec, SIL\", tsilen, \"sec\")\n",
    "    print(\"Student talk:\", slen, \"sec, SIL\", ssilen, \"sec\")"
   ]
  },
  {
   "cell_type": "code",
   "execution_count": 35,
   "metadata": {},
   "outputs": [],
   "source": [
    "def words_main(txtgridr):\n",
    "    #print(txtgridr)\n",
    "    txtlist = glob.glob(txtgridr+\"/*.14\")\n",
    "    print(\"File list\", txtlist)\n",
    "    t1count=0\n",
    "    t2count=0\n",
    "    s1count=0\n",
    "    s2count=0\n",
    "    for txtgridf in txtlist:\n",
    "        tg = tgt.io.read_textgrid(txtgridf, encoding='utf-8', include_empty_intervals=True)\n",
    "        t1=tg.get_tier_by_name('IU/teacher')\n",
    "        t7=tg.get_tier_by_name('IU/student-7')\n",
    "\n",
    "        for i in t1:\n",
    "            txt = i.text.replace('*','').replace('^','').replace(' ','')\n",
    "            if all_chinese(txt):\n",
    "                if len(txt) == 1:\n",
    "                    t1count = t1count + 1\n",
    "                if len(txt) == 2:\n",
    "                    t2count = t2count + 1\n",
    "        for i in t7:\n",
    "            txt = i.text.replace('*','').replace('^','').replace(' ','')\n",
    "            if all_chinese(txt):\n",
    "                if len(txt) == 1:\n",
    "                    s1count = s1count + 1\n",
    "                if len(txt) == 2:\n",
    "                    s2count = s2count + 1\n",
    "\n",
    "    print(\"Teacher single word:\", t1count, \"2-words\", t2count)\n",
    "    print(\"Student single word:\", s1count, \"2-words\", s2count)"
   ]
  },
  {
   "cell_type": "code",
   "execution_count": 36,
   "metadata": {},
   "outputs": [
    {
     "name": "stdout",
     "output_type": "stream",
     "text": [
      "File list ['data\\\\ZOOM0001_LR.TextGrid.14', 'data\\\\ZOOM0002_LR.TextGrid.14', 'data\\\\ZOOM0003_LR.TextGrid.14', 'data\\\\ZOOM0004_LR.TextGrid.14', 'data\\\\ZOOM0004_做實驗.TextGrid.14', 'data\\\\ZOOM0005_LR-1.TextGrid.14', 'data\\\\ZOOM0005_LR.TextGrid.14', 'data\\\\ZOOM0007_Jinghuang.TextGrid.14', 'data\\\\ZOOM0007_LR.TextGrid.14', 'data\\\\ZOOM0007_LR_TextGrid.14', 'data\\\\ZOOM0008_test_one_by_one.TextGrid.14', 'data\\\\ZOOM0009_LR.TextGrid.14']\n",
      "Teacher single word: 326 2-words 416\n",
      "Student single word: 272 2-words 604\n"
     ]
    }
   ],
   "source": [
    "words_main('data')"
   ]
  },
  {
   "cell_type": "code",
   "execution_count": 37,
   "metadata": {
    "scrolled": false
   },
   "outputs": [
    {
     "name": "stdout",
     "output_type": "stream",
     "text": [
      "File list ['data\\\\ZOOM0001_LR.TextGrid.14', 'data\\\\ZOOM0002_LR.TextGrid.14', 'data\\\\ZOOM0003_LR.TextGrid.14', 'data\\\\ZOOM0004_LR.TextGrid.14', 'data\\\\ZOOM0004_做實驗.TextGrid.14', 'data\\\\ZOOM0005_LR-1.TextGrid.14', 'data\\\\ZOOM0005_LR.TextGrid.14', 'data\\\\ZOOM0007_Jinghuang.TextGrid.14', 'data\\\\ZOOM0007_LR.TextGrid.14', 'data\\\\ZOOM0007_LR_TextGrid.14', 'data\\\\ZOOM0008_test_one_by_one.TextGrid.14', 'data\\\\ZOOM0009_LR.TextGrid.14']\n",
      "Teacher talk: 4296.573470127137 sec, SIL 3829.516688603022 sec\n",
      "Student talk: 2106.045540314407 sec, SIL 6020.04461841571 sec\n"
     ]
    }
   ],
   "source": [
    "length_main('data')\n"
   ]
  },
  {
   "cell_type": "code",
   "execution_count": null,
   "metadata": {},
   "outputs": [],
   "source": []
  }
 ],
 "metadata": {
  "kernelspec": {
   "display_name": "py367",
   "language": "python",
   "name": "py367"
  },
  "language_info": {
   "codemirror_mode": {
    "name": "ipython",
    "version": 3
   },
   "file_extension": ".py",
   "mimetype": "text/x-python",
   "name": "python",
   "nbconvert_exporter": "python",
   "pygments_lexer": "ipython3",
   "version": "3.6.7"
  }
 },
 "nbformat": 4,
 "nbformat_minor": 2
}
