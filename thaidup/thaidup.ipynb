{
 "cells": [
  {
   "cell_type": "code",
   "execution_count": 1,
   "metadata": {},
   "outputs": [
    {
     "data": {
      "text/plain": [
       "' Usage:\\n    python3 thaidup.py directory\\n    \\n    This file takes a directory, process all .textgrid file and output terms that are identical\\n    between layer 1 and 7\\n    directory: the directory that want to processed\\n    \\n    The output is textgrid_file+\".dup\"\\n'"
      ]
     },
     "execution_count": 1,
     "metadata": {},
     "output_type": "execute_result"
    }
   ],
   "source": [
    "#!/usr/bin/env python3\n",
    "# coding: utf-8\n",
    "\"\"\" Usage:\n",
    "    python3 thaidup.py directory\n",
    "    \n",
    "    This file takes a directory, process all .textgrid file and output terms that are identical\n",
    "    between layer 1 and 7\n",
    "    directory: the directory that want to processed\n",
    "    \n",
    "    The output is textgrid_file+\".dup\"\n",
    "\"\"\"\n"
   ]
  },
  {
   "cell_type": "code",
   "execution_count": 2,
   "metadata": {},
   "outputs": [],
   "source": [
    "def contains_chinese(check_str):\n",
    "    \"\"\"\n",
    "    判断字符串中是否包含中文\n",
    "    :param check_str: {str} 需要检测的字符串\n",
    "    :return: {bool} 包含返回True， 不包含返回False\n",
    "    \"\"\"\n",
    "    for ch in check_str:\n",
    "        if u'\\u4e00' <= ch <= u'\\u9fff':\n",
    "            return True\n",
    "    return False\n",
    "\n",
    "def listprint(l):\n",
    "    for item in l:\n",
    "        #print(item)\n",
    "        print(item.text, end=\"\")\n",
    "    print(\" \", end=\"\")"
   ]
  },
  {
   "cell_type": "code",
   "execution_count": 3,
   "metadata": {},
   "outputs": [],
   "source": [
    "import tgt\n",
    "import glob\n",
    "\n",
    "def thaidup_main(txtgridr):\n",
    "    #print(txtgridr)\n",
    "    txtlist = glob.glob(txtgridr+\"/*.14\")\n",
    "    #print(\"File list\", txtlist)\n",
    "    #translator = Translator()\n",
    "    #print(translator)\n",
    "    for txtgridf in txtlist:\n",
    "        print(\"[\",txtgridf,\"]\")\n",
    "        tg = tgt.io.read_textgrid(txtgridf, encoding='utf-8', include_empty_intervals=True)\n",
    "        tier1 = tg.get_tier_by_name(\"IU/teacher\")\n",
    "        tier3 = tg.get_tier_by_name(\"Word/teacher\")\n",
    "        tier4 = tg.get_tier_by_name(\"IU/phone\")\n",
    "        tier5 = tg.get_tier_by_name(\"IU/syllable\")\n",
    "        tier6 = tg.get_tier_by_name(\"IU/tone\")\n",
    "        #print(first_tier)\n",
    "        tier7 = tg.get_tier_by_name(\"IU/student\")\n",
    "        #print(stier)\n",
    "        checked_term=[]\n",
    "        for a in tier1._objects:\n",
    "            if contains_chinese(a.text) and len(a.text) <=2 and not a.text in checked_term:\n",
    "                #print(a.text, end=\": \")\n",
    "                match = False\n",
    "                for b in tier7._objects:\n",
    "                    if a.text == b.text:\n",
    "                        print(a.text, \": \", end=\"\")\n",
    "                        match=True\n",
    "                        break\n",
    "                if match:\n",
    "                    checked_term.append(a.text)\n",
    "                    #dur = 0\n",
    "                    cnt = 0\n",
    "                    for c in tier1._objects:\n",
    "                        if c.text == a.text:\n",
    "                            cnt = cnt + 1\n",
    "                    print(\"token\", cnt, \",\", end=\" \")\n",
    "\n",
    "                    #-----------------\n",
    "                    for c in tier1._objects:\n",
    "                        if c.text == a.text:\n",
    "                            print((c.end_time - c.start_time)*1000, \" msec, \", end=\" \")\n",
    "#                   print(\"token\", cnt, \",\", end=\" \")\n",
    "    \n",
    "                    a3 = tier3.get_annotations_between_timepoints(a.start_time, a.end_time)\n",
    "                    a4 = tier4.get_annotations_between_timepoints(a.start_time, a.end_time)\n",
    "                    a5 = tier5.get_annotations_between_timepoints(a.start_time, a.end_time)\n",
    "                    a6 = tier6.get_annotations_between_timepoints(a.start_time, a.end_time)\n",
    "                    print(\"Tier3=\", end=\"\"), listprint(a3)\n",
    "                    print(\"Tier4=\", end=\"\"), listprint(a4)\n",
    "                    print(\"Tier5=\", end=\"\"), listprint(a5)\n",
    "                    print(\"Tier6=\", end=\"\"), listprint(a6)\n",
    "                    print(\";\", end=\" \")\n",
    "                    \n",
    "                    cnt = 0\n",
    "                    for d in tier7._objects:\n",
    "                        if d.text == a.text:\n",
    "                            cnt = cnt + 1\n",
    "                    print(\"Student: token\", cnt,  end=\" \")\n",
    "                    for d in tier7._objects:\n",
    "                        if d.text == a.text:\n",
    "                            print((d.end_time-d.start_time) * 1000, \"ms\", end=\" \")\n",
    "                    print()"
   ]
  },
  {
   "cell_type": "code",
   "execution_count": 4,
   "metadata": {
    "scrolled": false
   },
   "outputs": [
    {
     "name": "stdout",
     "output_type": "stream",
     "text": [
      "[ 06152018\\ZOOM0004_做實驗.TextGrid.14 ]\n",
      "影子 : token 2 , 948.4395352528026  msec,  1031.3128927020757  msec,  Tier3=Na Tier4=iŋtsɨ Tier5=VNCV Tier6=21 0 ; Student: token 2 1247.081870711611 ms 940.1078717672107 ms \n",
      "瓶子 : token 2 , 985.2721385635874  msec,  957.6476860804917  msec,  Tier3=Na Tier4=pʰiŋtsɨ Tier5=CVNCV Tier6=35 0 ; Student: token 2 1266.267745645635 ms 1007.258434036288 ms \n",
      "白色 : token 1 , 1141.8107026344444  msec,  Tier3=Na Tier4=pajsɤ Tier5=CVGCV Tier6=35 51 ; Student: token 3 930.5149343001915 ms 777.0279348279985 ms 1150.1658244555983 ms \n",
      "黑色 : token 2 , 1179.9313084425194  msec,  1075.2779233703222  msec,  Tier3=Na Tier4=xejsɤ Tier5=CVGCV Tier6=55 51 ; Student: token 7 1016.851371503293 ms 949.7008092342298 ms 1170.3383709755144 ms 719.4703100259119 ms 1179.9313084425194 ms 1151.152496041476 ms 1160.7454335085094 ms \n",
      "[ 06152018\\ZOOM0005_LR.TextGrid.14 ]\n",
      "十二 : token 1 , 839.4785100561819  msec,  Tier3= Tier4=ʂɨɚ Tier5=CVV Tier6=35 51 ; Student: token 1 482.8290345418509 ms \n",
      "九 : token 2 , 887.1084964423517  msec,  514.9149415005922  msec,  Tier3=Neu Tier4=tɕjow Tier5=CGVG Tier6=21 ; Student: token 2 356.35100487829163 ms 372.8173557854859 ms \n",
      "八 : token 3 , 839.4785100561819  msec,  550.531423004486  msec,  515.2657177272886  msec,  Tier3=Neu Tier4=pa Tier5=CV Tier6=55 ; Student: token 1 390.61552457812354 ms \n",
      "七 : token 2 , 1053.8134487939317  msec,  593.5552938817636  msec,  Tier3=Neu Tier4=tɕʰi Tier5=CV Tier6=55 ; Student: token 1 802.0057649678165 ms \n",
      "六 : token 2 , 851.3860066527172  msec,  683.7613252610026  msec,  Tier3=Neu Tier4=ljow Tier5=CGVG Tier6=51 ; Student: token 1 537.8348739200476 ms \n",
      "五 : token 2 , 723.758013630885  msec,  472.9777588268007  msec,  Tier3=Neu Tier4=u Tier5=V Tier6=21 ; Student: token 2 464.49375474912813 ms 413.6493540827928 ms \n",
      "四 : token 2 , 970.4609726181275  msec,  535.3230407217779  msec,  Tier3=Neu Tier4=sɨ Tier5=CV Tier6=51 ; Student: token 2 470.6055146800452 ms 397.8267011943899 ms \n",
      "二 : token 2 , 869.2472515475629  msec,  498.68307180668126  msec,  Tier3=Neu Tier4=ɚ Tier5=V Tier6=51 ; Student: token 2 1192.4052855543152 ms 420.43049103497765 ms \n",
      "一 : token 2 , 768.0335304769415  msec,  405.5301670700828  msec,  Tier3=Neqa Neu D Di Tier4=i Tier5=V Tier6=55 ; Student: token 3 366.1813954175841 ms 429.4720069713094 ms 254.07058423604667 ms \n",
      "跳 : token 12 , 976.4147209164094  msec,  1018.0909590043257  msec,  904.9697413371973  msec,  773.9872787751665  msec,  899.0159930388586  msec,  699.943020437729  msec,  458.4386189668521  msec,  822.8017497555129  msec,  838.1745789333763  msec,  673.3863044055397  msec,  723.3811039925513  msec,  522.150456467557  msec,  Tier3=VA Tier4=tʰjaw Tier5=CGVG Tier6=51 ; Student: token 3 766.2070518701967 ms 603.079098891385 ms 622.8521841010206 ms \n",
      "預備 : token 4 , 601.328578125333  msec,  1057.9542562254574  msec,  873.1783372654718  msec,  2067.9919642207096  msec,  Tier3=VF Tier4=ypej Tier5=VCVG Tier6=51 51 ; Student: token 1 918.2891279556031 ms \n",
      "謝謝 : token 1 , 398.7488248852742  msec,  Tier3=VJ Tier4=ɕjɛɕjɛ Tier5=CGVCGV Tier6=51 51 ; Student: token 4 764.008096611974 ms 1121.1479760933116 ms 397.8267011943899 ms 1279.3745049774543 ms \n",
      "太 : token 1 , 696.7747947835505  msec,  Tier3=Dfa Tier4=tʰaj Tier5=CVG Tier6=51 ; Student: token 1 655.50990537713 ms \n",
      "太陽 : token 2 , 1203.218244662196  msec,  997.3443141020084  msec,  Tier3=Nb Tier4=tʰajjaŋ Tier5=CVGGVN Tier6=51 35 ; Student: token 8 646.4683894408836 ms 1252.2499571687717 ms 1084.9819123483257 ms 1003.6082689222781 ms 849.9024980062586 ms 1518.9746772877015 ms 2126.322493787143 ms 761.9302398352374 ms \n",
      "早上 : token 24 , 1149.3770102094345  msec,  1057.395031812291  msec,  1133.9668228830533  msec,  1114.8399024029914  msec,  995.6642480522078  msec,  2193.152307835703  msec,  805.4543077805647  msec,  798.2240804830099  msec,  935.1137643395759  msec,  540.5100773982667  msec,  978.1635380602438  msec,  989.3909964282557  msec,  901.8081745862219  msec,  721.1587886235975  msec,  787.6678512138824  msec,  637.6744698281982  msec,  686.5934020565874  msec,  1251.5792697899997  msec,  785.9552268373591  msec,  1021.0280670467  msec,  965.5032572595701  msec,  992.4011118955605  msec,  605.8360999263641  msec,  803.1311451518377  msec,  Tier3=Nd Tier4=tsawʂaŋ Tier5=CVGCVN Tier6=21 51 ; Student: token 30 1234.1669252962788 ms 1026.2120587628374 ms 1171.9031269475408 ms 1320.0613266905066 ms 1143.7517659339846 ms 1017.1705428266478 ms 754.9665806757275 ms 1599.425992454826 ms 961.8230919149937 ms 895.7436428520396 ms 954.4809309079483 ms 1005.8760579563568 ms 675.4788126422682 ms 1049.9290239981747 ms 999.2698399084929 ms 981.3909952422364 ms 990.3739791805037 ms 1104.223426909357 ms 1107.3388997015172 ms 1206.6175596746689 ms 727.6017767503618 ms 992.3841637564692 ms 811.0970626071321 ms 985.3587677080213 ms 1128.6818419412157 ms 510.51403352312263 ms 607.7185687668134 ms 1513.2096983811607 ms 969.6270293284215 ms 1012.270212841031 ms \n",
      "中午 : token 19 , 2178.1337907034413  msec,  1711.3402190345823  msec,  1511.955763844071  msec,  2620.65561153247  msec,  801.044660272737  msec,  789.762341113942  msec,  946.65969505877  msec,  459.0902420356997  msec,  931.0028723853065  msec,  1011.8497278283485  msec,  1145.522999690911  msec,  1000.4234197303958  msec,  758.6143114967854  msec,  943.6469857846532  msec,  936.4904799012947  msec,  851.6519157374205  msec,  509.06170880170976  msec,  727.1051738230199  msec,  786.9736861730416  msec,  Tier3=Nd Tier4=tʂoŋu Tier5=CVNV Tier6=55 21 ; Student: token 34 1428.5595179254642 ms 1550.619983064621 ms 1351.7066324673124 ms 1114.7514492867003 ms 866.3749988241989 ms 939.7966088939711 ms 878.0586570953801 ms 1339.0005722285423 ms 1051.009120763183 ms 914.0186157062544 ms 976.8995032734438 ms 1008.0602397279108 ms 946.9656797446078 ms 1210.9191253766767 ms 1136.2263878199883 ms 1355.271826788794 ms 1139.4219238768528 ms 1242.0406685737362 ms 872.3691523014168 ms 917.6335894494514 ms 1101.3605442176413 ms 773.6103803431433 ms 1181.795154845986 ms 1404.4858665361062 ms 1273.8995042122951 ms 813.7838572552027 ms 777.6989482645149 ms 848.1827506529953 ms 590.2302646300086 ms 759.3980026431382 ms 868.7122856663336 ms 688.551256178016 ms 367.2543868806315 ms 889.9943751716819 ms \n",
      "下午 : token 18 , 1638.4748810182828  msec,  1353.8446543909686  msec,  3065.566485538284  msec,  974.6890951619207  msec,  944.8942295470033  msec,  634.4557638344668  msec,  1306.042153086537  msec,  1217.1943236187417  msec,  1190.2453718043944  msec,  1198.9807396766992  msec,  997.0867924876075  msec,  953.187038559463  msec,  852.9949789945022  msec,  575.5623001873573  msec,  724.9159177295041  msec,  995.5024906607832  msec,  555.2536563550348  msec,  807.5032211854705  msec,  Tier3=Nd Tier4=ɕjau Tier5=CGVV Tier6=51 21 ; Student: token 33 1428.5595179254642 ms 1374.3104223079854 ms 1125.6687340614917 ms 764.008096611974 ms 1039.774332667207 ms 908.6723515918038 ms 2470.0763651673014 ms 1038.9157824884023 ms 781.9401472438585 ms 975.6207301061295 ms 1073.4665806085104 ms 1224.214450125828 ms 1248.6347674023364 ms 2097.8008772544854 ms 1215.1952688968777 ms 901.1447597567894 ms 794.3726805397091 ms 567.8629387621186 ms 636.0189400679701 ms 1728.278509277061 ms 1683.0140721290263 ms 1061.8848837389123 ms 868.3509729089565 ms 954.2318383610109 ms 925.6048832103261 ms 655.0696512204013 ms 1014.3216399560515 ms 773.4673937511616 ms 715.109818718247 ms 651.4393291095075 ms 1114.0241958864863 ms 1091.688163415256 ms 776.8986889464031 ms \n",
      "午 : token 1 , 337.57144877984047  msec,  Tier3=Nd Tier4=u Tier5=V Tier6=21 ; Student: token 2 645.5118062058318 ms 572.7419604927491 ms \n",
      "月亮 : token 1 , 1000.9031733732172  msec,  Tier3=Na Tier4=ɥɛljaŋ Tier5=GVCGVN Tier6=51 51 ; Student: token 1 1071.419638444013 ms \n",
      "晚上 : token 20 , 1053.2746466993785  msec,  1170.3994918910894  msec,  1933.4364730110565  msec,  1030.0472160126901  msec,  792.5829209036692  msec,  657.2338807889082  msec,  948.1406804823109  msec,  1089.155513107471  msec,  869.4351686749542  msec,  969.8761397385169  msec,  1190.8152955538753  msec,  968.9296700112209  msec,  1043.1752961017082  msec,  617.1389529781663  msec,  882.6644504838441  msec,  785.9628650926425  msec,  575.6430251499296  msec,  811.8752972204675  msec,  904.2305857851716  msec,  1023.0657920246813  msec,  Tier3=Nd Tier4=wanʂaŋ Tier5=GVNCVN Tier6=21 51 ; Student: token 37 1234.1669252963356 ms 1062.37812250788 ms 1169.8414812628926 ms 2301.767475689644 ms 1108.6663120546518 ms 987.5206554394254 ms 848.0195963068127 ms 753.4053266504088 ms 657.1234101247683 ms 830.4742588427416 ms 1286.0263765485342 ms 821.9962406803916 ms 1265.0315333230537 ms 857.5192733037511 ms 1718.3859250355908 ms 1232.3089011551929 ms 1042.221890672181 ms 1133.233956119966 ms 1218.2467997881758 ms 1047.3722947726856 ms 943.1472697460777 ms 1099.7353396242033 ms 1198.9807396766992 ms 992.9574473244429 ms 1521.6501168533796 ms 821.1051093076094 ms 871.204079061954 ms 790.5601011184444 ms 742.8485092000301 ms 965.4464761811141 ms 502.2630778671555 ms 486.65823756391546 ms 665.081504360387 ms 556.7733007196694 ms 913.7638911674912 ms 719.3399806615162 ms 828.1387500101118 ms \n",
      "睡覺 : token 3 , 1101.7176769779553  msec,  1030.8559206641803  msec,  1044.1526526528833  msec,  Tier3=VA Tier4=ʂwejtɕɥɛ Tier5=CGVGCGV Tier6=51 35 ; Student: token 8 985.525237049842 ms 944.838415336676 ms 1121.1479760933116 ms 1075.940396412193 ms 863.3043763450132 ms 878.4661250874706 ms 865.3593902124612 ms 1230.097645591286 ms \n",
      "跑 : token 3 , 400.86610296816616  msec,  318.87076372470347  msec,  327.98135697396447  msec,  Tier3=VC VA, VCL VA Tier4=pʰaw Tier5=CVG Tier6=21 ; Student: token 1 1281.0232653184812 ms \n",
      "好 : token 7 , 714.7465146256309  msec,  504.88378235502296  msec,  375.68861898171235  msec,  378.93162834689065  msec,  430.13900729124543  msec,  645.405777117503  msec,  512.1294218656658  msec,  Tier3=VL VH Dfa Di Cbb Tier4=xaw Tier5=CVG Tier6=21 ; Student: token 6 451.4122796367701 ms 336.3667230223655 ms 691.7486625898164 ms 244.83625792026942 ms 470.273638616618 ms 612.0906448009009 ms \n",
      "一天 : token 7 , 1289.8999352255487  msec,  864.9790058938152  msec,  974.1270859152564  msec,  1215.098678109939  msec,  1016.9974532333299  msec,  1063.3585807140662  msec,  1029.5116232379087  msec,  Tier3=Neqa Neu D DiVH Na Nc Na Nf Tier4=itʰjɛn Tier5=VCGVN Tier6=5555 ; Student: token 5 1657.4737894389955 ms 1744.828355405275 ms 987.5243817050432 ms 1160.061439103515 ms 1027.9025409778342 ms \n",
      "起床 : token 2 , 1332.3692443422033  msec,  1268.9484622227383  msec,  Tier3=VA Tier4=tɕʰitʂʰwaŋ Tier5=CVCGVN Tier6=21 35 ; Student: token 2 1013.218218963857 ms 969.1652529219255 ms \n",
      "上學 : token 3 , 1492.7444037522264  msec,  1392.2671749272695  msec,  1181.9786346964065  msec,  Tier3=Nv,VA Tier4=ʂaŋɕɥɛ Tier5=CVNCGV Tier6=51 35 ; Student: token 3 1200.4433246420376 ms 976.5074139288572 ms 1108.6663120540834 ms \n",
      "游泳 : token 7 , 411.8140127720835  msec,  715.3501601967491  msec,  844.1809947346428  msec,  777.7737637518385  msec,  1400.6623688942454  msec,  1738.2579142176837  msec,  761.3856979630782  msec,  Tier3=VA Tier4=jowjoŋ Tier5=GVGGVN Tier6=35 21 ; Student: token 9 892.0725623479484 ms 1024.2314604738567 ms 657.1234101247683 ms 598.3861220688595 ms 1552.9193458039572 ms 979.014370180721 ms 1555.605788814546 ms 1109.2529914558327 ms 919.221602481457 ms \n",
      "我 : token 27 , 713.5247211826936  msec,  1048.960532403953  msec,  854.3518500928258  msec,  732.3015857937207  msec,  576.3484703006725  msec,  1009.1951939982664  msec,  685.9654165612028  msec,  531.533411785631  msec,  413.0158267253137  msec,  560.2649475576982  msec,  845.0189177704033  msec,  791.4297235092818  msec,  499.1695488802179  msec,  727.9180943148731  msec,  495.52597553065425  msec,  624.3569952332564  msec,  734.5376414509701  msec,  754.5704862175171  msec,  434.2789475547306  msec,  655.4395226985434  msec,  476.50051190043996  msec,  556.2855430835043  msec,  404.2311131674978  msec,  197.09566737992645  msec,  460.6192264229776  msec,  413.199852556545  msec,  419.9003907062888  msec,  Tier3=Nh Tier4=wɔ Tier5=GV Tier6=21 ; Student: token 28 554.3331560270417 ms 613.0704440829504 ms 1895.6256539152037 ms 364.5984551017136 ms 594.1604453512355 ms 533.394036167465 ms 769.7078496594258 ms 816.9706123576361 ms 525.9008206503495 ms 835.254244562293 ms 764.5670310871537 ms 840.9584624932904 ms 697.2048791612906 ms 1056.588837491745 ms 567.8266541619905 ms 495.949862496218 ms 870.2349957163733 ms 682.9345110741087 ms 631.5860515949225 ms 816.4405057202657 ms 806.1708138243375 ms 672.6648191784079 ms 580.2375921157363 ms 692.0873028673213 ms 749.6875083973009 ms 842.587541725834 ms 903.4356116624167 ms 1564.0110710073714 ms \n",
      "晚 : token 2 , 527.0262626247586  msec,  612.0906448009009  msec,  Tier3=Nd Nf D VH Tier4=wan Tier5=GVN Tier6=21 ; Student: token 7 389.13453336999737 ms 602.4423552694316 ms 888.5194646409218 ms 490.665521343999 ms 474.2872869042003 ms 1149.719510963223 ms 585.8581885954663 ms \n",
      "吃飯 : token 2 , 903.5382895172006  msec,  718.8091609409639  msec,  Tier3=VA VA Tier4=tʂʰɨfan Tier5=CVCVN Tier6=55 51 ; Student: token 5 1128.4656291575175 ms 1430.3481541551264 ms 617.9089127986117 ms 690.0171999945997 ms 1380.3727518256892 ms \n",
      "吃 : token 1 , 749.7795344118003  msec,  Tier3=VC VC VC VC VC Tier4=tʂʰɨ Tier5=CV Tier6=55 ; Student: token 2 414.8320968945427 ms 876.8968583262904 ms \n",
      "回家 : token 3 , 1059.8142566243496  msec,  1236.742716738945  msec,  1160.874285189493  msec,  Tier3=Nv,VA Tier4=xwejtɕja Tier5=CGVGCGV Tier6=35 55 ; Student: token 2 1458.296249210889 ms 1175.8797220752513 ms \n",
      "中 : token 3 , 753.8870533214777  msec,  510.51403352312263  msec,  563.9978084236645  msec,  Tier3=VJ VH Ncd Ng Di Nc Tier4=tʂoŋ Tier5=CVN Tier6=55 ; Student: token 7 484.5826264606785 ms 593.5848753051687 ms 654.8277592651175 ms 596.3948989756318 ms 201.1154975775753 ms 865.7100754617204 ms 1587.0636004488006 ms \n"
     ]
    },
    {
     "name": "stdout",
     "output_type": "stream",
     "text": [
      "下 : token 3 , 815.2057923866778  msec,  1123.3810310300214  msec,  947.4096542835468  msec,  Tier3=Ncd Nes VC VCL VC VC Di Nf Ng Tier4=ɕja Tier5=CGV Tier6=51 ; Student: token 4 335.761964081712 ms 901.1737941227693 ms 615.1271400558471 ms 653.6488092770014 ms \n",
      "早 : token 5 , 262.6030779379107  msec,  413.21366675492754  msec,  646.7939692183791  msec,  925.5492741121998  msec,  485.3004398064513  msec,  Tier3=D VH Tier4=tsaw Tier5=CVG Tier6=21 ; Student: token 11 328.3832599117886 ms 494.65406275430723 ms 556.8581589650421 ms 536.2179885314617 ms 493.1716450264503 ms 566.5403591201539 ms 485.11592751037824 ms 597.4019264208437 ms 639.7092309462096 ms 457.5426722094562 ms 393.4868430865208 ms \n",
      "好冷 : token 9 , 426.7924851656062  msec,  673.6122356232954  msec,  1047.0600711491898  msec,  1264.9512210941793  msec,  911.2187745427036  msec,  976.4175955233441  msec,  512.3288233576204  msec,  732.7996024878303  msec,  738.8808497953505  msec,  Tier3=VL VH Dfa Di CbbVH VH Tier4=xawləŋ Tier5=CVGCVN Tier6=2121 ; Student: token 15 927.5263017948419 ms 729.0250279179418 ms 650.5114676670019 ms 1180.1015630626353 ms 782.4312851575996 ms 907.8149454489903 ms 858.0935228583257 ms 2117.9164285795196 ms 905.0197390988615 ms 803.6210904701875 ms 1541.5537846356528 ms 852.5548266870828 ms 466.10296439575905 ms 643.2642533918624 ms 690.8207301066795 ms \n",
      "好熱 : token 3 , 766.3638760523099  msec,  868.3509729089565  msec,  717.0204696240035  msec,  Tier3=VL VH Dfa Di CbbVH, VH VHC Na Tier4=xawʐɤ Tier5=CVGCV Tier6=2151 ; Student: token 17 785.3315664101501 ms 1031.1126165374844 ms 1135.348848798003 ms 845.2419135951459 ms 736.5758408582224 ms 700.6978786912441 ms 525.8940534122303 ms 866.1960849290153 ms 458.03128241323066 ms 1317.2991941855798 ms 1122.0278220912405 ms 878.7872828929721 ms 1569.6678334747958 ms 784.3704958122544 ms 703.9042415212862 ms 881.2488044836755 ms 1689.7752452514396 ms \n",
      "好冰 : token 4 , 1001.9434302789705  msec,  763.2889021119809  msec,  570.536655050546  msec,  695.1600894526564  msec,  Tier3=VL VH Dfa Di CbbVHC VC Na Tier4=xawpiŋ Tier5=CVGCVN Tier6=2155 ; Student: token 9 1048.4936028215088 ms 1040.8184132634233 ms 847.814011419814 ms 783.6498381498131 ms 511.5328960127954 ms 744.990033265367 ms 763.7824608432311 ms 864.3402096317914 ms 1182.897319955373 ms \n",
      "好燙 : token 3 , 973.6981487972116  msec,  544.800627234963  msec,  746.3757474201884  msec,  Tier3=VL VH Dfa Di CbbVH VC VC VC Tier4=xawtʰaŋ Tier5=CVGCVN Tier6=2151 ; Student: token 12 873.1221321004341 ms 1006.7145894709029 ms 949.4606791695333 ms 1138.8547221199588 ms 882.6644504838441 ms 616.4628054834793 ms 742.668582891838 ms 740.7258476746392 ms 669.5426199266876 ms 984.263038548761 ms 738.8808497953505 ms 831.1755492541124 ms \n",
      "燙 : token 1 , 391.2350537279963  msec,  Tier3=VH VC VC VC Tier4=tʰaŋ Tier5=CVN Tier6=51 ; Student: token 1 625.3440672685429 ms \n",
      "[ 06152018\\ZOOM0007_Jinghuang.TextGrid.14 ]\n",
      "兩點 : token 1 , 833.8488771690464  msec,  Tier3= Tier4=ljaŋtjɛn Tier5=CGVNCGVN Tier6=21 21 ; Student: token 1 810.324788304726 ms \n",
      "[ 06152018\\ZOOM0008_test_one_by_one.TextGrid.14 ]\n",
      "早上 : token 4 , 986.6355836868186  msec,  666.2593654397142  msec,  513.7532612045561  msec,  539.4855988170093  msec,  Tier3=Nd Tier4=tsawʂaŋ Tier5=CVGCVN Tier6=21 51 ; Student: token 16 910.9011964113325 ms 967.0010394249254 ms 1534.6456574422973 ms 912.2692115526547 ms 917.2568449711775 ms 1528.173890926496 ms 1259.1913328125202 ms 1296.5035949000594 ms 979.5283478670171 ms 601.3595014690054 ms 716.955020050591 ms 2207.357894688357 ms 541.7530600777809 ms 780.1554398358803 ms 1280.514528446929 ms 675.9183695430693 ms \n",
      "中午 : token 5 , 890.2549251848519  msec,  559.3346415583937  msec,  470.7482431469998  msec,  737.3935003406586  msec,  624.3210694344725  msec,  Tier3=Nd Tier4=tʂoŋu Tier5=CVNV Tier6=55 21 ; Student: token 13 624.2017291525981 ms 870.3028631178853 ms 1194.7860812263968 ms 798.1098740760331 ms 687.2151740965933 ms 1513.7151833232565 ms 649.8029815520567 ms 712.1423831947595 ms 524.7709036748347 ms 1197.7656031367587 ms 746.1631987944202 ms 779.3260076296065 ms 2168.847725911519 ms \n",
      "下午 : token 11 , 1002.8158927369608  msec,  767.0944487482103  msec,  1174.4703872952869  msec,  541.8641034541452  msec,  580.7730983798365  msec,  538.2030241459006  msec,  582.6127326160986  msec,  725.272043087557  msec,  543.989289698402  msec,  586.0836990202642  msec,  786.172956044993  msec,  Tier3=Nd Tier4=ɕjau Tier5=CGVV Tier6=51 21 ; Student: token 15 1078.6895572604838 ms 871.2821786390136 ms 1271.3607620947016 ms 1408.5525272716666 ms 973.2346695694218 ms 1748.8059365343815 ms 405.74670217779385 ms 439.27948748182644 ms 774.8055607042943 ms 641.71265545815 ms 696.4565999088563 ms 557.4282098286858 ms 792.132523480177 ms 709.1288954998163 ms 728.5570844176164 ms \n",
      "晚上 : token 12 , 997.587451996651  msec,  914.957330951438  msec,  931.0115710261471  msec,  785.737603080932  msec,  1170.1616198463114  msec,  606.8513690622694  msec,  623.3269718424026  msec,  500.02012301149534  msec,  462.07216724724276  msec,  469.5384023555107  msec,  621.1561634161171  msec,  549.2089323317941  msec,  Tier3=Nd Tier4=wanʂaŋ Tier5=GVNCVN Tier6=21 51 ; Student: token 22 833.9744414088007 ms 1161.3228008646956 ms 1083.7408251853517 ms 718.1250783829256 ms 1180.96980452475 ms 1270.2291767811005 ms 805.4169611680777 ms 1049.0598457364513 ms 696.0055157288139 ms 662.1457879366517 ms 2030.7783111529716 ms 796.2530878497773 ms 635.1789899259757 ms 591.4342847107719 ms 752.3858602854716 ms 521.3673619734891 ms 631.7218518405525 ms 1476.8354826588848 ms 520.3358043163462 ms 702.9452189849508 ms 590.2715772106149 ms 586.0268201356575 ms \n",
      "下 : token 12 , 952.3893951206403  msec,  725.8043590308318  msec,  677.799883281466  msec,  588.2413752597131  msec,  647.1827563663055  msec,  810.0504700154261  msec,  923.1158607482257  msec,  858.0783438694652  msec,  714.5154143815944  msec,  604.0450060252169  msec,  643.5277992050032  msec,  594.7015753431515  msec,  Tier3=Ncd Nes VC VCL VC VC Di Nf Ng Tier4=ɕja Tier5=CGV Tier6=51 ; Student: token 7 749.9731257439066 ms 300.87425838598847 ms 1507.2112947615324 ms 955.2192884584656 ms 599.3575549098296 ms 627.418560463866 ms 327.50688861688104 ms \n",
      "晚 : token 12 , 1021.661190589434  msec,  710.2317853077977  msec,  1175.0530942293267  msec,  317.9052220491485  msec,  360.02523126961705  msec,  444.84127505938886  msec,  438.5135545049934  msec,  563.6725167400982  msec,  474.5141686548777  msec,  374.7476473727147  msec,  370.45526023030106  msec,  389.013722401387  msec,  Tier3=Nd Nf D VH Tier4=wan Tier5=GVN Tier6=21 ; Student: token 4 814.6135738919113 ms 479.76898308817795 ms 376.22168100165254 ms 353.1240199856711 ms \n",
      "幾點 : token 5 , 315.0035319872586  msec,  338.4230494447138  msec,  393.9919695937988  msec,  329.00535522168184  msec,  325.15088801937964  msec,  Tier3= Tier4=tɕitjɛn Tier5=CVCGVN Tier6=21 21 ; Student: token 1 607.143904394789 ms \n",
      "七 : token 3 , 524.7055638782001  msec,  971.5387444902603  msec,  942.807460038182  msec,  Tier3= Tier4=tɕʰi Tier5=CV Tier6=55 55 ; Student: token 4 538.8483505721666 ms 820.999431697885 ms 470.92709032062885 ms 617.9156270782187 ms \n",
      "點 : token 6 , 811.5581865324799  msec,  510.71438590329876  msec,  822.0207391791519  msec,  519.3393157272794  msec,  393.7611270865773  msec,  577.2583169834888  msec,  Tier3=Nf Nf Dfb VC VC VC VC Na Nf Na Tier4=tjɛn Tier5=CGVN Tier6=21 ; Student: token 5 795.1298831613656 ms 673.721030132981 ms 743.8301378157348 ms 995.8565961832164 ms 684.0344218589962 ms \n",
      "七點 : token 4 , 882.8425773682227  msec,  850.9861146231117  msec,  399.34617259189054  msec,  853.0422595542859  msec,  Tier3= Tier4=tɕʰitjɛn Tier5=CVCGVN Tier6=55 21 ; Student: token 7 823.2660043181568 ms 906.8423460848578 ms 1251.484635566669 ms 1194.271101053232 ms 811.1776590479849 ms 1121.2692665319537 ms 1432.4855480006136 ms \n",
      "早 : token 14 , 673.1187487953605  msec,  539.4055186652906  msec,  431.24687684593255  msec,  397.9707386841369  msec,  378.09637465602464  msec,  538.2030241457869  msec,  749.6399264888396  msec,  572.5287790382936  msec,  642.2761427347723  msec,  546.8561176076037  msec,  502.83086684976297  msec,  499.49363829955473  msec,  524.9832046147276  msec,  240.89977147878017  msec,  Tier3=D VH Tier4=tsaw Tier5=CVG Tier6=21 ; Student: token 6 594.3075963326123 ms 672.5856874387546 ms 451.5538056552941 ms 453.5963779442227 ms 520.5335112682405 ms 341.039321488779 ms \n",
      "中 : token 9 , 670.8184611639751  msec,  745.1692357264506  msec,  534.2312607215831  msec,  789.9930804778705  msec,  573.2046751937787  msec,  692.6376171493303  msec,  751.2233048216785  msec,  504.7723721265811  msec,  335.7927797408138  msec,  Tier3=VJ VH Ncd Ng Di Nc Tier4=tʂoŋ Tier5=CVN Tier6=55 ; Student: token 2 613.0926236560299 ms 428.9481960561261 ms \n",
      "上 : token 7 , 680.417627178656  msec,  423.7250037153899  msec,  288.65224050991856  msec,  318.3883810456791  msec,  796.5776048911266  msec,  480.95235519531343  msec,  313.65480807198765  msec,  Tier3=VH Ncd Nes VD VCL VA Di Ng P Tier4=ʂaŋ Tier5=CVN Tier6=51 ; Student: token 6 1127.3427280171404 ms 279.3510831597814 ms 340.00214376760596 ms 841.6852954294427 ms 396.98787842257843 ms 649.9827169225227 ms \n",
      "六歲 : token 3 , 333.4495482625357  msec,  469.5514046961762  msec,  355.36107667792294  msec,  Tier3=NeuNf Tier4=ljowswej Tier5=CGVGCGVG Tier6=5151 ; Student: token 1 642.9051539898865 ms \n",
      "我 : token 6 , 552.9410966491923  msec,  401.3031378810865  msec,  633.4279368168154  msec,  456.99539449060467  msec,  621.9768515750275  msec,  580.7408172165651  msec,  Tier3=Nh Tier4=wɔ Tier5=GV Tier6=21 ; Student: token 3 526.9181054289902 ms 761.5639093878599 ms 464.75881888159165 ms \n",
      "四 : token 2 , 435.92620895140044  msec,  796.832662032557  msec,  Tier3=Neu Tier4=sɨ Tier5=CV Tier6=51 ; Student: token 2 326.4760823767574 ms 675.2437323395952 ms \n",
      "五 : token 1 , 667.3024275486341  msec,  Tier3=Neu Tier4=u Tier5=V Tier6=21 ; Student: token 2 298.44178920518516 ms 291.77208478358807 ms \n",
      "五點 : token 1 , 533.1712863328448  msec,  Tier3= Tier4=utjɛn Tier5=VCGVN Tier6=21 21 ; Student: token 4 1262.5544790134243 ms 425.86637336012245 ms 557.2064506143306 ms 559.3556136303732 ms \n",
      "四點 : token 3 , 471.34775851066024  msec,  596.8835784103703  msec,  464.8918600067873  msec,  Tier3= Tier4=sɨtjɛn Tier5=CVCGVN Tier6=51 21 ; Student: token 2 657.3073649452681 ms 905.1052261081622 ms \n",
      "五歲 : token 2 , 306.707054995627  msec,  430.2507826225792  msec,  Tier3=NeuNf Tier4=uswej Tier5=VCGVG Tier6=2151 ; Student: token 1 766.3029718301004 ms \n",
      "我叫 : token 2 , 699.9293753190159  msec,  603.3442903299147  msec,  Tier3=NhVL VC VG VF VC VL VA,VE, P P P Tier4=wɔtɕjaw Tier5=GVCGVG Tier6=2151 ; Student: token 2 1432.1899221848753 ms 1018.5247006529607 ms \n",
      "十點 : token 1 , 839.2686959211915  msec,  Tier3= Tier4=ʂɨtjɛn Tier5=CVCGVN Tier6=35 21 ; Student: token 1 673.2548877637328 ms \n",
      "午 : token 4 , 1093.088375268735  msec,  265.99083550013347  msec,  314.1392987392919  msec,  228.07605130583397  msec,  Tier3=Nd Tier4=u Tier5=V Tier6=21 ; Student: token 8 437.2335600907036 ms 379.89174038636975 ms 772.5097571799324 ms 662.9199393594263 ms 570.1789077750163 ms 153.81475717163084 ms 372.6216652610219 ms 344.45839986324245 ms \n",
      "三點 : token 1 , 1128.1379441106765  msec,  Tier3= Tier4=santjɛn Tier5=CVNCGVN Tier6=55 21 ; Student: token 2 694.1286557918147 ms 1328.0278043896487 ms \n"
     ]
    }
   ],
   "source": [
    "thaidup_main(\"06152018\")"
   ]
  },
  {
   "cell_type": "code",
   "execution_count": 5,
   "metadata": {},
   "outputs": [
    {
     "name": "stdout",
     "output_type": "stream",
     "text": [
      "[ 06182018\\ZOOM0001_LR.TextGrid.14 ]\n",
      "好 : token 8 , 226.59988602790548  msec,  559.2678038135475  msec,  552.6135370505898  msec,  357.9223555005342  msec,  598.1824057585072  msec,  924.9141780210266  msec,  442.62283948421555  msec,  749.3545690200563  msec,  Tier3=VL VH Dfa Di Cbb Tier4=xaw Tier5=CVG Tier6=21 ; Student: token 1 442.62283948421555 ms \n",
      "一 : token 2 , 1012.4067393662699  msec,  876.6466291287998  msec,  Tier3=Neqa Neu D Di Tier4=i Tier5=V Tier6=55 ; Student: token 2 1012.4067393662699 ms 645.8822958727524 ms \n",
      "三 : token 1 , 601.325449104479  msec,  Tier3=Neu Tier4=san Tier5=CVN Tier6=55 ; Student: token 1 914.9558232776371 ms \n",
      "四 : token 1 , 660.0633442852768  msec,  Tier3=Neu Tier4=sɨ Tier5=CV Tier6=51 ; Student: token 2 945.7914770139269 ms 722.423677661709 ms \n",
      "五 : token 1 , 676.7714491346624  msec,  Tier3=Neu Tier4=u Tier5=V Tier6=21 ; Student: token 2 487.25458044373227 ms 1055.5630041313862 ms \n",
      "六 : token 1 , 685.8603699960213  msec,  Tier3=Neu Tier4=ljow Tier5=CGVG Tier6=51 ; Student: token 2 1071.9600769760973 ms 840.5494149882315 ms \n",
      "七 : token 1 , 859.6066987965969  msec,  Tier3=Neu Tier4=tɕʰi Tier5=CV Tier6=55 ; Student: token 2 882.2856453623444 ms 1031.3489754456668 ms \n",
      "八 : token 1 , 694.5908627252493  msec,  Tier3=Neu Tier4=pa Tier5=CV Tier6=55 ; Student: token 3 818.0952380953386 ms 1015.4851148893158 ms 900.8606578145191 ms \n",
      "九 : token 1 , 751.7339356912771  msec,  Tier3=Neu Tier4=tɕjow Tier5=CGVG Tier6=21 ; Student: token 2 836.922350453392 ms 836.486622906591 ms \n",
      "十 : token 1 , 777.4430241044001  msec,  Tier3=Neu Tier4=ʂɨ Tier5=CV Tier6=35 ; Student: token 4 904.3928422903491 ms 516.9025459895238 ms 875.0769334283177 ms 820.0867268153615 ms \n",
      "十一 : token 1 , 840.5494149882315  msec,  Tier3= Tier4=ʂɨi Tier5=CVV Tier6=35 55 ; Student: token 2 851.9274376417343 ms 866.3331393743192 ms \n",
      "十二 : token 1 , 781.6338583312472  msec,  Tier3= Tier4=ʂɨɚ Tier5=CVV Tier6=35 51 ; Student: token 3 1382.5865081755637 ms 1024.875283446704 ms 938.3912279457718 ms \n",
      "十三 : token 1 , 701.4536430128828  msec,  Tier3= Tier4=ʂɨsan Tier5=CVCVN Tier6=35 55 ; Student: token 2 1187.7781027209267 ms 638.0030087856312 ms \n",
      "舉手 : token 2 , 902.080707920959  msec,  1086.7233939995913  msec,  Tier3=VA Tier4=tɕyʂow Tier5=CVCVG Tier6=21 21 ; Student: token 2 489.7083199921326 ms 540.4615885711337 ms \n",
      "早上 : token 2 , 1888.9436888920272  msec,  998.0020991088168  msec,  Tier3=Nd Tier4=tsawʂaŋ Tier5=CVGCVN Tier6=21 51 ; Student: token 5 1130.5489841278131 ms 1888.9436888920272 ms 1018.4645897633118 ms 1096.3956119499016 ms 1007.5007784502077 ms \n",
      "中午 : token 5 , 2461.9209866258416  msec,  1747.6658560930218  msec,  1705.363901363512  msec,  1429.6269070785002  msec,  1322.7221216818634  msec,  Tier3=Nd Tier4=tʂoŋu Tier5=CVNV Tier6=55 21 ; Student: token 5 981.2356892336993 ms 1509.8545369307885 ms 1253.6773381763169 ms 1056.8482939371506 ms 1250.1814058956597 ms \n",
      "晚上 : token 2 , 999.7052154194535  msec,  958.5048182138962  msec,  Tier3=Nd Tier4=wanʂaŋ Tier5=GVNCVN Tier6=21 51 ; Student: token 5 1279.648623789285 ms 1061.5543468169335 ms 994.0994081900953 ms 925.8768997848392 ms 906.3847545262433 ms \n",
      "下午 : token 2 , 1606.5504737069887  msec,  1471.6569670264334  msec,  Tier3=Nd Tier4=ɕjau Tier5=CGVV Tier6=51 21 ; Student: token 4 1457.0378580824581 ms 1557.8882849167712 ms 1681.4206622533447 ms 1559.3716206902855 ms \n",
      "太陽 : token 1 , 1164.3724569943288  msec,  Tier3=Nb Tier4=tʰajjaŋ Tier5=CVGGVN Tier6=51 35 ; Student: token 6 912.2331335983063 ms 1015.3982435704165 ms 1166.5936463531352 ms 722.8076741625955 ms 1291.230156588881 ms 1389.3974594255951 ms \n",
      "好熱 : token 1 , 1044.0093439664224  msec,  Tier3=VL VH Dfa Di CbbVH, VH VHC Na Tier4=xawʐɤ Tier5=CVGCV Tier6=2151 ; Student: token 4 1114.535503582033 ms 1085.5871594187647 ms 1226.9091432156074 ms 1260.6487848785264 ms \n",
      "好冷 : token 2 , 1285.7777879405603  msec,  1039.5148339493971  msec,  Tier3=VL VH Dfa Di CbbVH VH Tier4=xawləŋ Tier5=CVGCVN Tier6=2121 ; Student: token 3 1540.4149236499052 ms 1155.311192737372 ms 959.0116030905165 ms \n",
      "好冰 : token 2 , 927.4004772212265  msec,  950.0536378631068  msec,  Tier3=VL VH Dfa Di CbbVHC VC Na Tier4=xawpiŋ Tier5=CVGCVN Tier6=2155 ; Student: token 5 1173.705381224181 ms 1086.4120773276227 ms 882.0941559373523 ms 1015.8171463625649 ms 936.6136762940869 ms \n",
      "好燙 : token 4 , 1217.2004175181428  msec,  932.4303257844804  msec,  1016.5622673089274  msec,  1037.5147573995491  msec,  Tier3=VL VH Dfa Di CbbVH VC VC VC Tier4=xawtʰaŋ Tier5=CVGCVN Tier6=2151 ; Student: token 7 1341.564625850424 ms 1124.4543600083716 ms 874.4120007777383 ms 1023.410397808675 ms 960.4940112169515 ms 959.2745655312456 ms 1214.7553615817515 ms \n",
      "[ 06182018\\ZOOM0002_LR.TextGrid.14 ]\n",
      "好熱 : token 1 , 1527.0919196584316  msec,  Tier3=VL VH Dfa Di CbbVH, VH VHC Na Tier4=xawʐɤ Tier5=CVGCV Tier6=2151 ; Student: token 2 1260.8917592675368 ms 1171.1066575576297 ms \n",
      "[ 06182018\\ZOOM0003_LR.TextGrid.14 ]\n",
      "粽子 : token 4 , 766.0284369800934  msec,  774.926176795546  msec,  1001.9285915180092  msec,  938.5823660774122  msec,  Tier3=Na Tier4=tsoŋtsɨ Tier5=CVNCV Tier6=51 0 ; Student: token 5 1033.836717598973 ms 879.1786189063657 ms 776.1015134916818 ms 940.2677880850945 ms 928.9809183424325 ms \n",
      "蛋 : token 3 , 499.99173036431444  msec,  568.3434100014892  msec,  508.1696264012976  msec,  Tier3=Na Tier4=tan Tier5=CVN Tier6=51 ; Student: token 8 388.62819091545475 ms 645.8255024684831 ms 650.120765124484 ms 477.62588512847515 ms 509.38440677231256 ms 438.3075128041014 ms 656.5325390105272 ms 458.092956162659 ms \n",
      "一點 : token 2 , 1213.7157989050706  msec,  1158.4242204700956  msec,  Tier3=Dfb Neqa Nd Tier4=itjɛn Tier5=VCGVN Tier6=55 21 ; Student: token 2 989.686808190811 ms 677.1428571428544 ms \n",
      "兩點 : token 3 , 1025.33469586686  msec,  1078.7159210609047  msec,  1020.9732982412447  msec,  Tier3= Tier4=ljaŋtjɛn Tier5=CGVNCGVN Tier6=21 21 ; Student: token 3 1036.6316845095298 ms 1047.3839233537774 ms 1208.9850495334247 ms \n",
      "七點 : token 1 , 418.4177000863656  msec,  Tier3= Tier4=tɕʰitjɛn Tier5=CVCGVN Tier6=55 21 ; Student: token 1 1122.1137446381135 ms \n",
      "立蛋 : token 2 , 837.3430731150506  msec,  655.487528344679  msec,  Tier3= Tier4=litan Tier5=CVCVN Tier6=51 51 ; Student: token 1 840.906284616608 ms \n",
      "[ 06182018\\ZOOM0004_LR.TextGrid.14 ]\n",
      "三 : token 1 , 1940.7552614022236  msec,  Tier3=Neu Tier4=san Tier5=CVN Tier6=55 ; Student: token 1 1064.1373050944835 ms \n",
      "二 : token 1 , 2408.0248133824753  msec,  Tier3=Neu Tier4=ɚ Tier5=V Tier6=51 ; Student: token 2 1405.51030493409 ms 500.34369514870036 ms \n",
      "一 : token 1 , 3742.5923776445843  msec,  Tier3=Neqa Neu D Di Tier4=i Tier5=V Tier6=55 ; Student: token 1 897.1186265861136 ms \n",
      "粽子 : token 5 , 834.7190484616931  msec,  950.0954264589438  msec,  861.6812858195004  msec,  986.5654401339157  msec,  930.003180958181  msec,  Tier3=Na Tier4=tsoŋtsɨ Tier5=CVNCV Tier6=51 0 ; Student: token 6 933.9235894128279 ms 703.4749115057792 ms 788.3770559978416 ms 711.5608300288301 ms 971.8252714177993 ms 967.5003951182362 ms \n",
      "兩個 : token 3 , 877.8573776960741  msec,  1334.1563491468378  msec,  1086.4080376593392  msec,  Tier3=Nf Neu NeuNf Di Tier4=ljaŋkɤ Tier5=CGVNCV Tier6=2151 ; Student: token 5 608.7698136668394 ms 711.7947689358459 ms 980.8650413358464 ms 1220.0907029478003 ms 956.504121753369 ms \n",
      "綠色 : token 9 , 922.260979711325  msec,  1139.4163394868144  msec,  860.6208971841625  msec,  521.0605150499532  msec,  485.01092227206755  msec,  802.4194394981805  msec,  556.6171739097854  msec,  517.65623104518  msec,  494.6617033607481  msec,  Tier3=Na Tier4=lysɤ Tier5=CVCV Tier6=51 51 ; Student: token 6 956.503342819417 ms 1105.559626503151 ms 1105.8193080941692 ms 614.4808169229918 ms 817.8801147132617 ms 776.0572883549912 ms \n",
      "紙 : token 3 , 1075.2102015941318  msec,  975.5289057864047  msec,  985.294805564223  msec,  Tier3=Nf Na Tier4=tʂɨ Tier5=CV Tier6=21 ; Student: token 2 882.2798192038874 ms 493.51473922902755 ms \n",
      "膠帶 : token 3 , 1117.4052347829218  msec,  1224.2176870748551  msec,  1497.8174206437984  msec,  Tier3=Na Tier4=tɕjawtaj Tier5=CGVGCVG Tier6=55 51 ; Student: token 3 1050.7783811376612 ms 898.4012037304296 ms 1602.5784441476958 ms \n",
      "線 : token 3 , 608.0831307411927  msec,  742.5630538858741  msec,  736.7161007056495  msec,  Tier3=Nf Nf Na Tier4=ɕjɛn Tier5=CGVN Tier6=51 ; Student: token 4 877.9073975010476 ms 432.6745353350816 ms 444.36844169547385 ms 619.7770371015849 ms \n",
      "剪刀 : token 2 , 871.1960238503309  msec,  819.8262819907427  msec,  Tier3=Na Tier4=tɕjɛntaw Tier5=CGVNCVG Tier6=21 55 ; Student: token 3 882.88993021078 ms 871.1960238503309 ms 1095.1309076026234 ms \n",
      "謝謝 : token 2 , 1151.267568961174  msec,  1226.5665880374854  msec,  Tier3=VJ Tier4=ɕjɛɕjɛ Tier5=CGVCGV Tier6=51 51 ; Student: token 7 1097.4700190097053 ms 529.1071556239331 ms 935.5004096833 ms 1320.7340096375901 ms 737.5748480784523 ms 705.1206562402967 ms 1124.116433282552 ms \n",
      "嘴巴 : token 1 , 679.7954035745306  msec,  Tier3=Na Tier4=tswejpa Tier5=CGVGCV Tier6=21 55 ; Student: token 2 610.6109883614295 ms 651.411382724234 ms \n",
      "打開 : token 2 , 652.3896349335132  msec,  580.4361408872865  msec,  Tier3=VC Tier4=takʰaj Tier5=CVCVG Tier6=21 55 ; Student: token 1 680.3350611203314 ms \n",
      "糖果 : token 5 , 1960.23158687251  msec,  1588.6362246549197  msec,  1282.1886340067863  msec,  1206.8049278156536  msec,  1987.746710868123  msec,  Tier3=Na Tier4=tʰaŋkwɔ Tier5=CVNCGV Tier6=35 21 ; Student: token 9 897.108879239056 ms 1398.0533124202452 ms 973.2785010612588 ms 956.3519184341089 ms 696.2973252542497 ms 1356.560558358069 ms 1484.7028353421479 ms 776.7515187173899 ms 1580.0734873816964 ms \n",
      "勇勇 : token 1 , 493.34715753815317  msec,  Tier3= Tier4=joŋjoŋ Tier5=GVNGVN Tier6=21 21 ; Student: token 1 828.0594520952036 ms \n",
      "紅色 : token 5 , 761.7631012889206  msec,  1211.9264211116842  msec,  928.8591470426582  msec,  987.4576309215399  msec,  927.8023496049173  msec,  Tier3=Na Tier4=xoŋsɤ Tier5=CVNCV Tier6=35 51 ; Student: token 5 574.069618329986 ms 525.436100270781 ms 834.7026228220784 ms 826.0228016198425 ms 660.6673490199455 ms \n",
      "橘色 : token 3 , 1003.9342194506844  msec,  1254.291143022101  msec,  990.3025337506506  msec,  Tier3=Na Tier4=tɕysɤ Tier5=CVCV Tier6=35 51 ; Student: token 2 881.0493681334037 ms 816.9264201212627 ms \n",
      "藍色 : token 1 , 1016.5388964752538  msec,  Tier3=Na Tier4=lansɤ Tier5=CVNCV Tier6=35 51 ; Student: token 3 734.4445607598118 ms 998.684807256268 ms 995.318153491894 ms \n",
      "[ 06182018\\ZOOM0005_LR.TextGrid.14 ]\n",
      "[ 06182018\\ZOOM0007_LR.TextGrid.14 ]\n",
      "好冷 : token 1 , 685.6363801189307  msec,  Tier3=VL VH Dfa Di CbbVH VH Tier4=xawləŋ Tier5=CVGCVN Tier6=2121 ; Student: token 2 1805.879836866172 ms 1098.1189244460747 ms \n",
      "好燙 : token 1 , 853.6155517759028  msec,  Tier3=VL VH Dfa Di CbbVH VC VC VC Tier4=xawtʰaŋ Tier5=CVGCVN Tier6=2151 ; Student: token 1 1020.2831625967192 ms \n",
      "蘋果 : token 1 , 765.8890982195032  msec,  Tier3=Na Tier4=pʰiŋkwɔ Tier5=CVNCGV Tier6=35 21 ; Student: token 3 836.5117618215265 ms 641.1411335650143 ms 1260.5612079385223 ms \n",
      "菜 : token 1 , 669.0838778950337  msec,  Tier3=VH Na Na Tier4=tsʰaj Tier5=CVG Tier6=51 ; Student: token 4 1451.494547073736 ms 1047.6011048192076 ms 349.4725431509238 ms 743.4424322628672 ms \n",
      "麵 : token 1 , 986.4107808292601  msec,  Tier3=Na Tier4=mjɛn Tier5=NGVN Tier6=51 ; Student: token 3 1637.2443143945077 ms 572.8449633096346 ms 489.91478011811296 ms \n",
      "飯 : token 1 , 829.9746536300887  msec,  Tier3=Na Na Tier4=fan Tier5=CVN Tier6=51 ; Student: token 3 921.5190642101945 ms 463.78599184512836 ms 352.7386416850362 ms \n",
      "香蕉 : token 2 , 990.761976254106  msec,  907.5958249627263  msec,  Tier3=Na Tier4=ɕjaŋtɕjaw Tier5=CGVNCGVG Tier6=55 55 ; Student: token 2 1000.5090614145615 ms 1051.1319361137055 ms \n",
      "糖果 : token 3 , 1163.2254443760246  msec,  1268.613987813069  msec,  2012.4885129098686  msec,  Tier3=Na Tier4=tʰaŋkwɔ Tier5=CVNCGV Tier6=35 21 ; Student: token 4 1459.730853327983 ms 1088.3970717649447 ms 1070.820619859262 ms 1142.6306003514526 ms \n",
      "[ 06182018\\ZOOM0009_LR.TextGrid.14 ]\n"
     ]
    },
    {
     "name": "stdout",
     "output_type": "stream",
     "text": [
      "早飯 : token 1 , 749.7563272593127  msec,  Tier3=Na Tier4=tsawfan Tier5=CVGCVN Tier6=21 51 ; Student: token 1 644.017713710788 ms \n",
      "麵 : token 1 , 560.489073636731  msec,  Tier3=Na Tier4=mjɛn Tier5=NGVN Tier6=51 ; Student: token 1 379.992011580633 ms \n",
      "飯 : token 1 , 266.8991509911578  msec,  Tier3=Na Na Tier4=fan Tier5=CVN Tier6=51 ; Student: token 1 378.5908610542634 ms \n",
      "香 : token 1 , 782.6025952791724  msec,  Tier3=VH Na Na Tier4=ɕjaŋ Tier5=CGVN Tier6=55 ; Student: token 1 547.3694452530538 ms \n",
      "香蕉 : token 1 , 836.887168362118  msec,  Tier3=Na Tier4=ɕjaŋtɕjaw Tier5=CGVNCGVG Tier6=55 55 ; Student: token 1 474.99001447579303 ms \n",
      "菜 : token 2 , 379.9920115806401  msec,  307.6125808033723  msec,  Tier3=VH Na Na Tier4=tsʰaj Tier5=CVG Tier6=51 ; Student: token 3 519.626065994558 ms 294.0414375326341 ms 316.12857218433277 ms \n",
      "糖果 : token 1 , 719.2705933490586  msec,  Tier3=Na Tier4=tʰaŋkwɔ Tier5=CVNCGV Tier6=35 21 ; Student: token 1 674.0334491132742 ms \n"
     ]
    }
   ],
   "source": [
    "thaidup_main(\"06182018\")"
   ]
  },
  {
   "cell_type": "code",
   "execution_count": 23,
   "metadata": {},
   "outputs": [
    {
     "name": "stdout",
     "output_type": "stream",
     "text": [
      "Parameter error\n",
      "Automatically created module for IPython interactive environment\n"
     ]
    },
    {
     "ename": "SystemExit",
     "evalue": "-1",
     "output_type": "error",
     "traceback": [
      "An exception has occurred, use %tb to see the full traceback.\n",
      "\u001b[1;31mSystemExit\u001b[0m\u001b[1;31m:\u001b[0m -1\n"
     ]
    },
    {
     "name": "stderr",
     "output_type": "stream",
     "text": [
      "C:\\Users\\chain\\Anaconda3-2019-07\\envs\\py367\\lib\\site-packages\\IPython\\core\\interactiveshell.py:3351: UserWarning: To exit: use 'exit', 'quit', or Ctrl-D.\n",
      "  warn(\"To exit: use 'exit', 'quit', or Ctrl-D.\", stacklevel=1)\n"
     ]
    }
   ],
   "source": [
    "import sys\n",
    "\n",
    "def main():\n",
    "    if (len(sys.argv) != 2):\n",
    "        print(\"Parameter error\")\n",
    "        print(__doc__)\n",
    "        sys.exit(-1)\n",
    "    else:\n",
    "        txtgridr = sys.argv[1]\n",
    "        thaidup_main(txtgridr)\n",
    "        \n",
    "if __name__ == \"__main__\":\n",
    "    main()\n",
    "    "
   ]
  },
  {
   "cell_type": "code",
   "execution_count": null,
   "metadata": {},
   "outputs": [],
   "source": []
  }
 ],
 "metadata": {
  "kernelspec": {
   "display_name": "py367",
   "language": "python",
   "name": "py367"
  },
  "language_info": {
   "codemirror_mode": {
    "name": "ipython",
    "version": 3
   },
   "file_extension": ".py",
   "mimetype": "text/x-python",
   "name": "python",
   "nbconvert_exporter": "python",
   "pygments_lexer": "ipython3",
   "version": "3.6.7"
  }
 },
 "nbformat": 4,
 "nbformat_minor": 2
}
