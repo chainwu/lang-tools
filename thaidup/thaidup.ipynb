{
 "cells": [
  {
   "cell_type": "code",
   "execution_count": null,
   "metadata": {},
   "outputs": [],
   "source": [
    "#!/usr/bin/env python3\n",
    "# coding: utf-8\n",
    "\"\"\" Usage:\n",
    "    python3 thaidup.py directory\n",
    "    \n",
    "    This file takes a directory, process all .textgrid file and output terms that are identical\n",
    "    between layer 1 and 7\n",
    "    directory: the directory that want to processed\n",
    "    \n",
    "    The output is textgrid_file+\".dup\"\n",
    "\"\"\"\n"
   ]
  },
  {
   "cell_type": "code",
   "execution_count": 1,
   "metadata": {},
   "outputs": [],
   "source": [
    "def contains_chinese(check_str):\n",
    "    \"\"\"\n",
    "    判断字符串中是否包含中文\n",
    "    :param check_str: {str} 需要检测的字符串\n",
    "    :return: {bool} 包含返回True， 不包含返回False\n",
    "    \"\"\"\n",
    "    for ch in check_str:\n",
    "        if u'\\u4e00' <= ch <= u'\\u9fff':\n",
    "            return True\n",
    "    return False\n",
    "\n",
    "def listprint(l):\n",
    "    for item in l:\n",
    "        #print(item)\n",
    "        print(item.text, end=\"\")\n",
    "    print(\" \", end=\"\")"
   ]
  },
  {
   "cell_type": "code",
   "execution_count": 20,
   "metadata": {},
   "outputs": [],
   "source": [
    "import tgt\n",
    "import glob\n",
    "\n",
    "def thaidup_main(txtgridr):\n",
    "    #print(txtgridr)\n",
    "    txtlist = glob.glob(txtgridr+\"/*.14\")\n",
    "    #print(\"File list\", txtlist)\n",
    "    #translator = Translator()\n",
    "    #print(translator)\n",
    "    for txtgridf in txtlist:\n",
    "        print(\"[\",txtgridf,\"]\")\n",
    "        tg = tgt.io.read_textgrid(txtgridf, encoding='utf-8', include_empty_intervals=True)\n",
    "        tier1 = tg.get_tier_by_name(\"IU/teacher\")\n",
    "        tier3 = tg.get_tier_by_name(\"Word/teacher\")\n",
    "        tier4 = tg.get_tier_by_name(\"IU/phone\")\n",
    "        tier5 = tg.get_tier_by_name(\"IU/syllable\")\n",
    "        tier6 = tg.get_tier_by_name(\"IU/tone\")\n",
    "        #print(first_tier)\n",
    "        tier7 = tg.get_tier_by_name(\"IU/student\")\n",
    "        #print(stier)\n",
    "        checked_term=[]\n",
    "        for a in tier1._objects:\n",
    "            if contains_chinese(a.text) and len(a.text) <=2 and not a.text in checked_term:\n",
    "                #print(a.text, end=\": \")\n",
    "                match = False\n",
    "                for b in tier7._objects:\n",
    "                    if a.text == b.text:\n",
    "                        print(a.text, \": \", end=\"\")\n",
    "                        match=True\n",
    "                        break\n",
    "                if match:\n",
    "                    checked_term.append(a.text)\n",
    "                    dur = 0\n",
    "                    cnt = 0\n",
    "                    for c in tier1._objects:\n",
    "                        if c.text == a.text:\n",
    "                            #print(c)\n",
    "                            cnt = cnt + 1\n",
    "                            dur = dur + (c.end_time - c.start_time)\n",
    "                    print(\"token\", cnt, \",\", (dur / cnt) * 1000, \"msec\", end=\" \")\n",
    "                    a3 = tier3.get_annotations_between_timepoints(a.start_time, a.end_time)\n",
    "                    a4 = tier4.get_annotations_between_timepoints(a.start_time, a.end_time)\n",
    "                    a5 = tier5.get_annotations_between_timepoints(a.start_time, a.end_time)\n",
    "                    a6 = tier6.get_annotations_between_timepoints(a.start_time, a.end_time)\n",
    "                    print(\"Tier3=\", end=\"\"), listprint(a3)\n",
    "                    print(\"Tier4=\", end=\"\"), listprint(a4)\n",
    "                    print(\"Tier5=\", end=\"\"), listprint(a5)\n",
    "                    print(\"Tier6=\", end=\"\"), listprint(a6)\n",
    "                    print(\";\", end=\" \")\n",
    "                    \n",
    "                    dur = 0\n",
    "                    cnt = 0\n",
    "                    for d in tier7._objects:\n",
    "                        if d.text == a.text:\n",
    "                            cnt = cnt + 1\n",
    "                            dur = dur + (d.end_time - d.start_time)\n",
    "                    print(\"Student: token\", cnt, \" \", dur/cnt * 1000, \"ms\")"
   ]
  },
  {
   "cell_type": "code",
   "execution_count": 22,
   "metadata": {
    "scrolled": false
   },
   "outputs": [],
   "source": [
    "#haidup_main(\"06152018\")"
   ]
  },
  {
   "cell_type": "code",
   "execution_count": 23,
   "metadata": {},
   "outputs": [
    {
     "name": "stdout",
     "output_type": "stream",
     "text": [
      "Parameter error\n",
      "Automatically created module for IPython interactive environment\n"
     ]
    },
    {
     "ename": "SystemExit",
     "evalue": "-1",
     "output_type": "error",
     "traceback": [
      "An exception has occurred, use %tb to see the full traceback.\n",
      "\u001b[1;31mSystemExit\u001b[0m\u001b[1;31m:\u001b[0m -1\n"
     ]
    },
    {
     "name": "stderr",
     "output_type": "stream",
     "text": [
      "C:\\Users\\chain\\Anaconda3-2019-07\\envs\\py367\\lib\\site-packages\\IPython\\core\\interactiveshell.py:3351: UserWarning: To exit: use 'exit', 'quit', or Ctrl-D.\n",
      "  warn(\"To exit: use 'exit', 'quit', or Ctrl-D.\", stacklevel=1)\n"
     ]
    }
   ],
   "source": [
    "import sys\n",
    "\n",
    "def main():\n",
    "    if (len(sys.argv) != 2):\n",
    "        print(\"Parameter error\")\n",
    "        print(__doc__)\n",
    "        sys.exit(-1)\n",
    "    else:\n",
    "        txtgridr = sys.argv[1]\n",
    "        thaidup_main(txtgridr)\n",
    "        \n",
    "if __name__ == \"__main__\":\n",
    "    main()\n",
    "    "
   ]
  },
  {
   "cell_type": "code",
   "execution_count": null,
   "metadata": {},
   "outputs": [],
   "source": []
  }
 ],
 "metadata": {
  "kernelspec": {
   "display_name": "py367",
   "language": "python",
   "name": "py367"
  },
  "language_info": {
   "codemirror_mode": {
    "name": "ipython",
    "version": 3
   },
   "file_extension": ".py",
   "mimetype": "text/x-python",
   "name": "python",
   "nbconvert_exporter": "python",
   "pygments_lexer": "ipython3",
   "version": "3.6.7"
  }
 },
 "nbformat": 4,
 "nbformat_minor": 2
}
