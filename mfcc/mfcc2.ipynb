{
 "cells": [
  {
   "cell_type": "code",
   "execution_count": null,
   "metadata": {},
   "outputs": [],
   "source": [
    "#!/usr/bin/env python3\n",
    "#-*- coding: utf-8 -*-\n",
    "\"\"\" Usage:\n",
    "      mfcc2 directory\n",
    "      Convert all the .wav file under the directory to MFCC (in numpy array format)\n",
    "\"\"\""
   ]
  },
  {
   "cell_type": "code",
   "execution_count": 3,
   "metadata": {},
   "outputs": [],
   "source": [
    "import matplotlib.pyplot as plt\n",
    "import numpy as np\n",
    "from matplotlib import cm\n",
    "import scipy.io.wavfile as wav\n",
    "from python_speech_features import mfcc\n",
    "\n",
    "def wav2mfcc(fn):\n",
    "    plt.rcParams['figure.figsize'] = [20, 5]\n",
    "    (rate,sig) = wav.read(\"out001.wav\")\n",
    "    mfcc_feat = mfcc(sig,rate)\n",
    "\n",
    "    ig, ax = plt.subplots()\n",
    "    mfcc_data= np.swapaxes(mfcc_feat, 0 ,1)\n",
    "\n",
    "    cax = ax.imshow(mfcc_data, interpolation='nearest', cmap='Greys', origin='lower', aspect='auto')\n",
    "    ax.set_title('MFCC')\n",
    "    #Showing mfcc_data\n",
    "    print(mfcc_data.shape)\n",
    "    plt.show()\n",
    "\n",
    "    #Showing mfcc_feat\n",
    "    plt.plot(mfcc_feat)\n",
    "    plt.show()"
   ]
  },
  {
   "cell_type": "code",
   "execution_count": 4,
   "metadata": {},
   "outputs": [
    {
     "name": "stdout",
     "output_type": "stream",
     "text": [
      "Automatically created module for IPython interactive environment\n"
     ]
    },
    {
     "ename": "SystemExit",
     "evalue": "0",
     "output_type": "error",
     "traceback": [
      "An exception has occurred, use %tb to see the full traceback.\n",
      "\u001b[1;31mSystemExit\u001b[0m\u001b[1;31m:\u001b[0m 0\n"
     ]
    },
    {
     "name": "stderr",
     "output_type": "stream",
     "text": [
      "C:\\Users\\IEC010240\\AppData\\Local\\Continuum\\anaconda3\\envs\\py36\\lib\\site-packages\\IPython\\core\\interactiveshell.py:3304: UserWarning: To exit: use 'exit', 'quit', or Ctrl-D.\n",
      "  warn(\"To exit: use 'exit', 'quit', or Ctrl-D.\", stacklevel=1)\n"
     ]
    }
   ],
   "source": [
    "import glob\n",
    "import os.path\n",
    "import sys\n",
    "\n",
    "if __name__ == '__main__':\n",
    "    try:\n",
    "        wavdir = args\n",
    "        if os.path.isdir(wavdir):\n",
    "            wavfl = glob.glob(wavdir+'/*.wav')\n",
    "            for w in wavfl:\n",
    "                wav2mfcc(w)\n",
    "    except:\n",
    "        print(__doc__)\n",
    "        sys.exit(0)"
   ]
  },
  {
   "cell_type": "code",
   "execution_count": null,
   "metadata": {},
   "outputs": [],
   "source": []
  }
 ],
 "metadata": {
  "kernelspec": {
   "display_name": "Python 3",
   "language": "python",
   "name": "python3"
  },
  "language_info": {
   "codemirror_mode": {
    "name": "ipython",
    "version": 3
   },
   "file_extension": ".py",
   "mimetype": "text/x-python",
   "name": "python",
   "nbconvert_exporter": "python",
   "pygments_lexer": "ipython3",
   "version": "3.6.8"
  }
 },
 "nbformat": 4,
 "nbformat_minor": 2
}
